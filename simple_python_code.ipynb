{
 "cells": [
  {
   "cell_type": "code",
   "execution_count": 1,
   "id": "becc8d8f",
   "metadata": {},
   "outputs": [],
   "source": [
    "import numpy as np"
   ]
  },
  {
   "cell_type": "code",
   "execution_count": 26,
   "id": "94a945cf",
   "metadata": {},
   "outputs": [
    {
     "data": {
      "text/plain": [
       "4.440892098500626e-16"
      ]
     },
     "execution_count": 26,
     "metadata": {},
     "output_type": "execute_result"
    }
   ],
   "source": [
    "A = np.random.rand(5, 5)\n",
    "A = np.matmul(A.transpose(), A)\n",
    "def ldlt(A):\n",
    "    d = []\n",
    "    size = len(A)\n",
    "    L = np.identity(size)\n",
    "    for j in range(size):\n",
    "        d_ = A[j][j]\n",
    "        for g in range(0, j):\n",
    "            d_ = d_ - d[g] * L[j][g]**2\n",
    "        d.append(d_)\n",
    "        for i in range(j+1, size):\n",
    "            l = A[i][j]\n",
    "            for g in range(0, j):\n",
    "                l = l - d[g] * L[j][g] * L[i][g]\n",
    "            L[i][j] = l / d_\n",
    "        \n",
    "    D = np.array(d) * np.identity(size) \n",
    "    return L, D\n",
    "L, D = ldlt(A)\n",
    "LDLt = np.matmul(L, np.matmul(D, L.transpose()))\n",
    "err  = LDLt - A\n",
    "np.abs(err).max()"
   ]
  }
 ],
 "metadata": {
  "kernelspec": {
   "display_name": "Python 3 (ipykernel)",
   "language": "python",
   "name": "python3"
  },
  "language_info": {
   "codemirror_mode": {
    "name": "ipython",
    "version": 3
   },
   "file_extension": ".py",
   "mimetype": "text/x-python",
   "name": "python",
   "nbconvert_exporter": "python",
   "pygments_lexer": "ipython3",
   "version": "3.9.12"
  }
 },
 "nbformat": 4,
 "nbformat_minor": 5
}
